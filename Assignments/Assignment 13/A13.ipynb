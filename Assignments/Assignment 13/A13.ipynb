{
 "cells": [
  {
   "cell_type": "markdown",
   "metadata": {},
   "source": [
    "# Mathematics and Statistics Assignment 13"
   ]
  },
  {
   "cell_type": "markdown",
   "metadata": {},
   "source": [
    "# Question 3\n",
    "\n",
    "Write a program to obtain 7 samples of size n=5 from the housefly wing length population (given in assignment 8). Obtain the ANOVA table for these sample groups. "
   ]
  },
  {
   "cell_type": "code",
   "execution_count": 14,
   "metadata": {},
   "outputs": [],
   "source": [
    "import numpy as np\n",
    "import plotly.graph_objects as go\n",
    "from scipy.stats import kurtosis, skew\n",
    "from scipy.stats import anderson\n",
    "import random\n",
    "import statistics\n",
    "from prettytable import PrettyTable"
   ]
  },
  {
   "cell_type": "code",
   "execution_count": 2,
   "metadata": {},
   "outputs": [
    {
     "name": "stdout",
     "output_type": "stream",
     "text": [
      "[36, 41, 42, 43, 45, 46, 47, 48, 49, 51, 37, 41, 42, 44, 45, 46, 47, 48, 49, 51, 38, 41, 42, 44, 45, 46, 47, 48, 49, 51, 38, 41, 43, 44, 45, 46, 47, 48, 49, 51, 39, 41, 43, 44, 45, 46, 47, 48, 50, 52, 39, 41, 43, 44, 45, 46, 47, 48, 50, 52, 40, 42, 43, 44, 45, 46, 47, 48, 50, 53, 40, 42, 43, 44, 45, 46, 47, 49, 50, 53, 40, 42, 43, 44, 45, 46, 47, 49, 50, 54, 40, 42, 43, 44, 45, 46, 48, 49, 50, 55]\n",
      "100\n"
     ]
    }
   ],
   "source": [
    "# Reading Input\n",
    "\n",
    "wingsHouseflies = []\n",
    "\n",
    "with open(\"wings houseflies\", \"r\") as f:\n",
    "    wingsHouseflies = list(map(int,f.read().split()));\n",
    "\n",
    "wing_mean = np.mean(wingsHouseflies)\n",
    "wing_stdev = statistics.stdev(wingsHouseflies)\n",
    "print(wingsHouseflies)\n",
    "print(len(wingsHouseflies))"
   ]
  },
  {
   "cell_type": "code",
   "execution_count": 4,
   "metadata": {},
   "outputs": [
    {
     "name": "stdout",
     "output_type": "stream",
     "text": [
      "[[45 48 46 44 50]\n",
      " [41 42 43 38 44]\n",
      " [51 46 46 40 42]\n",
      " [52 51 41 44 42]\n",
      " [48 46 42 44 42]\n",
      " [46 49 42 50 42]\n",
      " [48 55 46 44 42]]\n"
     ]
    }
   ],
   "source": [
    "# Sampling 7 samples of size 5 each\n",
    "\n",
    "samples = []\n",
    "for _ in range(35):\n",
    "    samples.append(wingsHouseflies[random.randint(0,len(wingsHouseflies)-1)])\n",
    "\n",
    "samples = np.asarray(samples).reshape((7,5))\n",
    "print(samples)"
   ]
  },
  {
   "cell_type": "code",
   "execution_count": 24,
   "metadata": {},
   "outputs": [
    {
     "name": "stdout",
     "output_type": "stream",
     "text": [
      "V:  505.6000000000058\n",
      "DOF(V): ab-1:  34\n",
      "Scap2:  14.870588235294289\n",
      "VB:  99.20000000001164\n",
      "DOF(VB): a-1:  6\n",
      "ScapB2:  16.533333333335275\n",
      "VW:  406.3999999999942\n",
      "DOF(VW): a(b-1):  28\n",
      "ScapW2:  14.514285714285506\n",
      "\n",
      "F:  1.1391076115487064\n",
      "df1:  6  df2:  28\n",
      "+-----------------------+--------------------+----------------------------+-----------------------------------+\n",
      "|       Variation       | Degrees Of Freedom |        Mean Square         |                 F                 |\n",
      "+-----------------------+--------------------+----------------------------+-----------------------------------+\n",
      "| VB: 99.20000000001164 |       a-1: 6       | ScapB2: 16.533333333335275 |       F: 1.1391076115487064       |\n",
      "| VW: 406.3999999999942 |     a(b-1): 28     | ScapW2: 14.514285714285506 |             with a-1: 6           |\n",
      "|  V: 505.6000000000058 |      ab-1: 34      | Scap2: 14.870588235294289  | and a(b-1): 28 degrees of freedom |\n",
      "+-----------------------+--------------------+----------------------------+-----------------------------------+\n"
     ]
    }
   ],
   "source": [
    "\n",
    "a = 7\n",
    "b = 5\n",
    "T = np.sum(samples)\n",
    "Tjdot = np.sum(samples, axis = 1)\n",
    "sqSum = np.sum(np.square(samples))\n",
    "TjdotSqSum = np.sum(np.square(Tjdot))\n",
    "\n",
    "V = sqSum - (T**2)/(a*b)\n",
    "Scap2 = V / (a*b-1) \n",
    "print(\"V: \",V)\n",
    "print(\"DOF(V): ab-1: \",a*b-1)\n",
    "print(\"Scap2: \", Scap2)\n",
    "VB = TjdotSqSum/b - (T**2)/(a*b)\n",
    "ScapB2 = VB / (a-1)\n",
    "print(\"VB: \", VB)\n",
    "print(\"DOF(VB): a-1: \",a-1)\n",
    "print(\"ScapB2: \", ScapB2)\n",
    "VW = V - VB\n",
    "ScapW2 = VW / (a*(b-1))\n",
    "print(\"VW: \", VW)\n",
    "print(\"DOF(VW): a(b-1): \",a*(b-1))\n",
    "print(\"ScapW2: \",ScapW2)\n",
    "F = ScapB2 / ScapW2\n",
    "df1 = a - 1\n",
    "df2 = a*(b-1)\n",
    "print(\"\")\n",
    "print(\"F: \", F)\n",
    "print(\"df1: \", df1, \" df2: \", df2)\n",
    "\n",
    "x = PrettyTable()\n",
    "x.field_names = [\"Variation\", \"Degrees Of Freedom\", \"Mean Square\", \"F\"]\n",
    "\n",
    "x.add_row([\"VB: \"+str(VB), \"a-1: \"+str(a-1), \"ScapB2: \"+str(ScapB2), \"F: \"+str(F)])\n",
    "x.add_row([\"VW: \"+str(VW), \"a(b-1): \"+str(a*(b-1)), \"ScapW2: \"+str(ScapW2),\" with a-1: \"+str(a-1)])\n",
    "x.add_row([\"V: \"+str(V), \"ab-1: \"+str(a*b-1), \"Scap2: \"+ str(Scap2), \"and a(b-1): \"+str(a*(b-1))+\" degrees of freedom\"])\n",
    "\n",
    "print(x)"
   ]
  },
  {
   "cell_type": "code",
   "execution_count": 7,
   "metadata": {},
   "outputs": [
    {
     "data": {
      "text/plain": [
       "72012"
      ]
     },
     "execution_count": 7,
     "metadata": {},
     "output_type": "execute_result"
    }
   ],
   "source": [
    "sqSum"
   ]
  },
  {
   "cell_type": "code",
   "execution_count": 17,
   "metadata": {},
   "outputs": [
    {
     "data": {
      "text/plain": [
       "'1.1391076115487064'"
      ]
     },
     "execution_count": 17,
     "metadata": {},
     "output_type": "execute_result"
    }
   ],
   "source": [
    "str(F)"
   ]
  },
  {
   "cell_type": "code",
   "execution_count": null,
   "metadata": {},
   "outputs": [],
   "source": []
  }
 ],
 "metadata": {
  "kernelspec": {
   "display_name": "Python 3",
   "language": "python",
   "name": "python3"
  },
  "language_info": {
   "codemirror_mode": {
    "name": "ipython",
    "version": 3
   },
   "file_extension": ".py",
   "mimetype": "text/x-python",
   "name": "python",
   "nbconvert_exporter": "python",
   "pygments_lexer": "ipython3",
   "version": "3.7.3"
  }
 },
 "nbformat": 4,
 "nbformat_minor": 2
}
